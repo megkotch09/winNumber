{
  "nbformat": 4,
  "nbformat_minor": 0,
  "metadata": {
    "colab": {
      "provenance": []
    },
    "kernelspec": {
      "name": "python3",
      "display_name": "Python 3"
    },
    "language_info": {
      "name": "python"
    }
  },
  "cells": [
    {
      "cell_type": "markdown",
      "source": [
        "#Helper Methods"
      ],
      "metadata": {
        "id": "SjwQnevGp5BN"
      }
    },
    {
      "cell_type": "code",
      "source": [
        "def midtermElections(array):\n",
        "    i = 0\n",
        "    for year in array:\n",
        "        if (i % 2 == 0):\n",
        "            array[i] /= 0.7\n",
        "        i+=1\n",
        "    return array"
      ],
      "metadata": {
        "id": "XdtL2Ea6aGxH"
      },
      "execution_count": null,
      "outputs": []
    },
    {
      "cell_type": "markdown",
      "source": [
        "#Main Methods"
      ],
      "metadata": {
        "id": "1GYG5d6Hp7Yx"
      }
    },
    {
      "cell_type": "code",
      "execution_count": null,
      "metadata": {
        "id": "Aa7XJnJpVyyK"
      },
      "outputs": [],
      "source": [
        "import numpy as np\n",
        "import pandas as pd\n",
        "import matplotlib.pyplot as plt\n",
        "from sklearn.linear_model import LinearRegression"
      ]
    },
    {
      "cell_type": "code",
      "source": [
        "years = np.array([0, 2, 4, 6, 8, 10, 12])\n",
        "votes = np.array([6086, 8976, 6123, 8742, 7567, 9680, 7532])\n",
        "population = np.array([25252, 29831, 29438, 28846, 28390, 27982, 31535])"
      ],
      "metadata": {
        "id": "wn9Cs8YCWn2H"
      },
      "execution_count": null,
      "outputs": []
    },
    {
      "cell_type": "code",
      "source": [
        "votes = midtermElections(votes)\n",
        "print(votes)"
      ],
      "metadata": {
        "colab": {
          "base_uri": "https://localhost:8080/"
        },
        "id": "sKk_tB9_abr9",
        "outputId": "db0d7817-f995-41cf-e001-e3cdd05bdb99"
      },
      "execution_count": null,
      "outputs": [
        {
          "output_type": "stream",
          "name": "stdout",
          "text": [
            "[ 8694  8976  8747  8742 10810  9680 10760]\n"
          ]
        }
      ]
    },
    {
      "cell_type": "code",
      "source": [
        "turnout = votes / population"
      ],
      "metadata": {
        "id": "doHh7Ls-Z7nO"
      },
      "execution_count": null,
      "outputs": []
    },
    {
      "cell_type": "code",
      "source": [
        "years = years.reshape(-1, 1)"
      ],
      "metadata": {
        "id": "sdfREi5lYY5_"
      },
      "execution_count": null,
      "outputs": []
    },
    {
      "cell_type": "code",
      "source": [
        "model1 = LinearRegression()\n",
        "model1.fit(years, turnout)\n",
        "turnoutPredicted = model1.predict([[14]])[0]\n",
        "\n",
        "model2 = LinearRegression()\n",
        "model2.fit(years, population)\n",
        "populationPredicted = model2.predict([[14]])[0]\n",
        "\n",
        "winNumber = turnoutPredicted * populationPredicted / 2 + 1\n",
        "print(turnoutPredicted)\n",
        "print(populationPredicted)\n",
        "print(winNumber)"
      ],
      "metadata": {
        "colab": {
          "base_uri": "https://localhost:8080/"
        },
        "id": "sVvO1lhIXHCk",
        "outputId": "af1b34fc-ae37-4da8-907c-2d2be6f8651e"
      },
      "execution_count": null,
      "outputs": [
        {
          "output_type": "stream",
          "name": "stdout",
          "text": [
            "0.35396599286960423\n",
            "30768.14285714286\n",
            "5446.438117591197\n"
          ]
        }
      ]
    }
  ]
}