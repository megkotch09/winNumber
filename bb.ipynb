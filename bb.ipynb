{
 "cells": [
  {
   "cell_type": "code",
   "execution_count": 46,
   "metadata": {},
   "outputs": [],
   "source": [
    "import pandas as pd"
   ]
  },
  {
   "cell_type": "code",
   "execution_count": 47,
   "metadata": {},
   "outputs": [],
   "source": [
    "def getPercentage(data, district, office):\n",
    "    if office == 1:\n",
    "        office = \"STATE HOUSE\"\n",
    "    else:\n",
    "        office = \"STATE SENATE\"\n",
    "    data = data[(data['district'] == district) & (data['office'] == office)]\n",
    "    data = data[['precinct', 'party_simplified', 'candidate', 'votes']]\n",
    "    total = data['votes'].sum()\n",
    "    dem_votes = data[data['party_simplified'] == 'DEMOCRAT']['votes'].sum()\n",
    "    percentage = (dem_votes / total) * 100\n",
    "    print(dem_votes)\n",
    "    print(total)\n",
    "    data.to_csv(\"/Users/megkotch/Downloads/data.csv\")\n",
    "    return percentage"
   ]
  },
  {
   "cell_type": "code",
   "execution_count": 48,
   "metadata": {},
   "outputs": [],
   "source": [
    "data = pd.read_csv(\"/Users/megkotch/Downloads/data/IA_cleaned.csv\")"
   ]
  },
  {
   "cell_type": "code",
   "execution_count": 49,
   "metadata": {},
   "outputs": [
    {
     "name": "stdout",
     "output_type": "stream",
     "text": [
      "0\n",
      "0\n",
      "nan\n"
     ]
    },
    {
     "name": "stderr",
     "output_type": "stream",
     "text": [
      "/var/folders/90/dnh5h0p53l5bhy3j1gzv6p400000gn/T/ipykernel_65612/340266289.py:10: RuntimeWarning: invalid value encountered in long_scalars\n",
      "  percentage = (dem_votes / total) * 100\n"
     ]
    }
   ],
   "source": [
    "print(getPercentage(data, 12, 2))"
   ]
  }
 ],
 "metadata": {
  "kernelspec": {
   "display_name": "base",
   "language": "python",
   "name": "python3"
  },
  "language_info": {
   "codemirror_mode": {
    "name": "ipython",
    "version": 3
   },
   "file_extension": ".py",
   "mimetype": "text/x-python",
   "name": "python",
   "nbconvert_exporter": "python",
   "pygments_lexer": "ipython3",
   "version": "3.10.9"
  }
 },
 "nbformat": 4,
 "nbformat_minor": 2
}
